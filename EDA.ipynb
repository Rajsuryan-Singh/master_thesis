{
 "cells": [
  {
   "cell_type": "code",
   "execution_count": 1,
   "source": [
    "import pandas as pd \n",
    "import matplotlib.pyplot as plt\n",
    "import numpy as np\n",
    "import seaborn as sns\n",
    "sns.set_palette(\"Pastel2\")\n"
   ],
   "outputs": [],
   "metadata": {}
  },
  {
   "cell_type": "code",
   "execution_count": 47,
   "source": [
    "data_to_use = \"\"       # set to \"\" to use the unfiltered version\n",
    "vid_annot = pd.read_csv(f\"data/urbansas{data_to_use}/video_annotations.csv\").drop(columns=\"Unnamed: 0\")\n",
    "aud_annot = pd.read_csv(f\"data/urbansas{data_to_use}/audio_annotations.csv\").drop(columns=\"Unnamed: 0\")\n",
    "\n",
    "# filter vid annot\n",
    "vid_annot = vid_annot[vid_annot[\"label\"] != -1]\n",
    "vid_annot = vid_annot[vid_annot[\"frame_id\"] != -1]\n"
   ],
   "outputs": [],
   "metadata": {}
  },
  {
   "cell_type": "code",
   "execution_count": 48,
   "source": [
    "vid_annot.head()"
   ],
   "outputs": [
    {
     "output_type": "execute_result",
     "data": {
      "text/html": [
       "<div>\n",
       "<style scoped>\n",
       "    .dataframe tbody tr th:only-of-type {\n",
       "        vertical-align: middle;\n",
       "    }\n",
       "\n",
       "    .dataframe tbody tr th {\n",
       "        vertical-align: top;\n",
       "    }\n",
       "\n",
       "    .dataframe thead th {\n",
       "        text-align: right;\n",
       "    }\n",
       "</style>\n",
       "<table border=\"1\" class=\"dataframe\">\n",
       "  <thead>\n",
       "    <tr style=\"text-align: right;\">\n",
       "      <th></th>\n",
       "      <th>frame_id</th>\n",
       "      <th>track_id</th>\n",
       "      <th>x</th>\n",
       "      <th>y</th>\n",
       "      <th>w</th>\n",
       "      <th>h</th>\n",
       "      <th>class_id</th>\n",
       "      <th>visibility</th>\n",
       "      <th>label</th>\n",
       "      <th>filename</th>\n",
       "      <th>city</th>\n",
       "      <th>location_id</th>\n",
       "      <th>time</th>\n",
       "      <th>night</th>\n",
       "    </tr>\n",
       "  </thead>\n",
       "  <tbody>\n",
       "    <tr>\n",
       "      <th>0</th>\n",
       "      <td>1</td>\n",
       "      <td>1</td>\n",
       "      <td>526.40</td>\n",
       "      <td>453.05</td>\n",
       "      <td>172.41</td>\n",
       "      <td>98.25</td>\n",
       "      <td>1</td>\n",
       "      <td>1.0</td>\n",
       "      <td>car</td>\n",
       "      <td>rivera0923_00_6</td>\n",
       "      <td>montevideo</td>\n",
       "      <td>rivera0923</td>\n",
       "      <td>0.0</td>\n",
       "      <td>0</td>\n",
       "    </tr>\n",
       "    <tr>\n",
       "      <th>1</th>\n",
       "      <td>1</td>\n",
       "      <td>2</td>\n",
       "      <td>947.42</td>\n",
       "      <td>400.28</td>\n",
       "      <td>38.87</td>\n",
       "      <td>65.35</td>\n",
       "      <td>4</td>\n",
       "      <td>1.0</td>\n",
       "      <td>motorbike</td>\n",
       "      <td>rivera0923_00_6</td>\n",
       "      <td>montevideo</td>\n",
       "      <td>rivera0923</td>\n",
       "      <td>0.0</td>\n",
       "      <td>0</td>\n",
       "    </tr>\n",
       "    <tr>\n",
       "      <th>2</th>\n",
       "      <td>2</td>\n",
       "      <td>3</td>\n",
       "      <td>1928.46</td>\n",
       "      <td>400.66</td>\n",
       "      <td>212.64</td>\n",
       "      <td>143.32</td>\n",
       "      <td>1</td>\n",
       "      <td>1.0</td>\n",
       "      <td>car</td>\n",
       "      <td>rivera0923_00_6</td>\n",
       "      <td>montevideo</td>\n",
       "      <td>rivera0923</td>\n",
       "      <td>0.5</td>\n",
       "      <td>0</td>\n",
       "    </tr>\n",
       "    <tr>\n",
       "      <th>3</th>\n",
       "      <td>2</td>\n",
       "      <td>1</td>\n",
       "      <td>375.66</td>\n",
       "      <td>444.97</td>\n",
       "      <td>172.41</td>\n",
       "      <td>98.25</td>\n",
       "      <td>1</td>\n",
       "      <td>0.0</td>\n",
       "      <td>car</td>\n",
       "      <td>rivera0923_00_6</td>\n",
       "      <td>montevideo</td>\n",
       "      <td>rivera0923</td>\n",
       "      <td>0.5</td>\n",
       "      <td>0</td>\n",
       "    </tr>\n",
       "    <tr>\n",
       "      <th>4</th>\n",
       "      <td>2</td>\n",
       "      <td>2</td>\n",
       "      <td>947.42</td>\n",
       "      <td>400.28</td>\n",
       "      <td>38.87</td>\n",
       "      <td>65.35</td>\n",
       "      <td>4</td>\n",
       "      <td>1.0</td>\n",
       "      <td>motorbike</td>\n",
       "      <td>rivera0923_00_6</td>\n",
       "      <td>montevideo</td>\n",
       "      <td>rivera0923</td>\n",
       "      <td>0.5</td>\n",
       "      <td>0</td>\n",
       "    </tr>\n",
       "  </tbody>\n",
       "</table>\n",
       "</div>"
      ],
      "text/plain": [
       "   frame_id  track_id        x       y       w       h  class_id  visibility  \\\n",
       "0         1         1   526.40  453.05  172.41   98.25         1         1.0   \n",
       "1         1         2   947.42  400.28   38.87   65.35         4         1.0   \n",
       "2         2         3  1928.46  400.66  212.64  143.32         1         1.0   \n",
       "3         2         1   375.66  444.97  172.41   98.25         1         0.0   \n",
       "4         2         2   947.42  400.28   38.87   65.35         4         1.0   \n",
       "\n",
       "       label         filename        city location_id  time  night  \n",
       "0        car  rivera0923_00_6  montevideo  rivera0923   0.0      0  \n",
       "1  motorbike  rivera0923_00_6  montevideo  rivera0923   0.0      0  \n",
       "2        car  rivera0923_00_6  montevideo  rivera0923   0.5      0  \n",
       "3        car  rivera0923_00_6  montevideo  rivera0923   0.5      0  \n",
       "4  motorbike  rivera0923_00_6  montevideo  rivera0923   0.5      0  "
      ]
     },
     "metadata": {},
     "execution_count": 48
    }
   ],
   "metadata": {}
  },
  {
   "cell_type": "code",
   "execution_count": 49,
   "source": [
    "aud_annot.head()"
   ],
   "outputs": [
    {
     "output_type": "execute_result",
     "data": {
      "text/html": [
       "<div>\n",
       "<style scoped>\n",
       "    .dataframe tbody tr th:only-of-type {\n",
       "        vertical-align: middle;\n",
       "    }\n",
       "\n",
       "    .dataframe tbody tr th {\n",
       "        vertical-align: top;\n",
       "    }\n",
       "\n",
       "    .dataframe thead th {\n",
       "        text-align: right;\n",
       "    }\n",
       "</style>\n",
       "<table border=\"1\" class=\"dataframe\">\n",
       "  <thead>\n",
       "    <tr style=\"text-align: right;\">\n",
       "      <th></th>\n",
       "      <th>filename</th>\n",
       "      <th>class_id</th>\n",
       "      <th>label</th>\n",
       "      <th>non_identifiable_vehicle_sound</th>\n",
       "      <th>start</th>\n",
       "      <th>end</th>\n",
       "    </tr>\n",
       "  </thead>\n",
       "  <tbody>\n",
       "    <tr>\n",
       "      <th>0</th>\n",
       "      <td>street_traffic-barcelona-161-4901</td>\n",
       "      <td>0</td>\n",
       "      <td>car</td>\n",
       "      <td>0</td>\n",
       "      <td>0.294</td>\n",
       "      <td>3.106</td>\n",
       "    </tr>\n",
       "    <tr>\n",
       "      <th>1</th>\n",
       "      <td>street_traffic-barcelona-161-4901</td>\n",
       "      <td>2</td>\n",
       "      <td>bus</td>\n",
       "      <td>0</td>\n",
       "      <td>6.648</td>\n",
       "      <td>9.961</td>\n",
       "    </tr>\n",
       "    <tr>\n",
       "      <th>2</th>\n",
       "      <td>street_traffic-barcelona-161-4902</td>\n",
       "      <td>0</td>\n",
       "      <td>car</td>\n",
       "      <td>0</td>\n",
       "      <td>7.877</td>\n",
       "      <td>9.836</td>\n",
       "    </tr>\n",
       "    <tr>\n",
       "      <th>3</th>\n",
       "      <td>street_traffic-barcelona-161-4902</td>\n",
       "      <td>0</td>\n",
       "      <td>car</td>\n",
       "      <td>0</td>\n",
       "      <td>4.752</td>\n",
       "      <td>7.273</td>\n",
       "    </tr>\n",
       "    <tr>\n",
       "      <th>4</th>\n",
       "      <td>street_traffic-barcelona-161-4903</td>\n",
       "      <td>-1</td>\n",
       "      <td>-1</td>\n",
       "      <td>1</td>\n",
       "      <td>-1.000</td>\n",
       "      <td>-1.000</td>\n",
       "    </tr>\n",
       "  </tbody>\n",
       "</table>\n",
       "</div>"
      ],
      "text/plain": [
       "                            filename  class_id label  \\\n",
       "0  street_traffic-barcelona-161-4901         0   car   \n",
       "1  street_traffic-barcelona-161-4901         2   bus   \n",
       "2  street_traffic-barcelona-161-4902         0   car   \n",
       "3  street_traffic-barcelona-161-4902         0   car   \n",
       "4  street_traffic-barcelona-161-4903        -1    -1   \n",
       "\n",
       "   non_identifiable_vehicle_sound  start    end  \n",
       "0                               0  0.294  3.106  \n",
       "1                               0  6.648  9.961  \n",
       "2                               0  7.877  9.836  \n",
       "3                               0  4.752  7.273  \n",
       "4                               1 -1.000 -1.000  "
      ]
     },
     "metadata": {},
     "execution_count": 49
    }
   ],
   "metadata": {}
  },
  {
   "cell_type": "code",
   "execution_count": 50,
   "source": [
    "vid_annot.shape[0]"
   ],
   "outputs": [
    {
     "output_type": "execute_result",
     "data": {
      "text/plain": [
       "41743"
      ]
     },
     "metadata": {},
     "execution_count": 50
    }
   ],
   "metadata": {}
  },
  {
   "cell_type": "markdown",
   "source": [
    "## Basic Statistics\n",
    "\n",
    "* Label distribution\n",
    "   \n",
    "* Day-Night split\n",
    "   \n",
    "* Time distribution\n",
    "   \n",
    "* City Distribution\n",
    "   \n",
    "* Visibility Split\n"
   ],
   "metadata": {}
  },
  {
   "cell_type": "code",
   "execution_count": 51,
   "source": [
    "\"\"\"\n",
    "Label Distribution\n",
    "\n",
    "\"\"\"\n",
    "# get classwise durations for audio annotations\n",
    "aud_annot[\"duration\"] = aud_annot[\"end\"] - aud_annot[\"start\"]\n",
    "durations = aud_annot.groupby(\"label\").sum().reset_index()[[\"label\", \"duration\"]]\n",
    "\n",
    "fig, ax = plt.subplots(1, 2, figsize = (18, 6))\n",
    "sns.countplot(x = \"label\", data = vid_annot, ax = ax[0])\n",
    "sns.barplot(x = \"label\", y = \"duration\",  data = durations, ax = ax[1], \n",
    "            order=durations.sort_values('duration', ascending=False).label)\n",
    "ax[0].set_title(\"Video Annotations\")\n",
    "ax[1].set_title(\"Audio Annotations\")\n",
    "\n"
   ],
   "outputs": [
    {
     "output_type": "execute_result",
     "data": {
      "text/plain": [
       "Text(0.5, 1.0, 'Audio Annotations')"
      ]
     },
     "metadata": {},
     "execution_count": 51
    },
    {
     "output_type": "display_data",
     "data": {
      "image/png": "[encoded data removed]",
      "text/plain": [
       "<Figure size 1296x432 with 2 Axes>"
      ]
     },
     "metadata": {
      "needs_background": "light"
     }
    }
   ],
   "metadata": {}
  },
  {
   "cell_type": "markdown",
   "source": [
    "## Observations \n",
    "\n",
    "Significant imbalance in labels. Cars are overrepresented in both audio and video. However, audio annotations look relatively more balanced. The reason might be multiple cars in one frame. Every car would get its own annotation in the image, but would be not in the audio (get more info on annotations)."
   ],
   "metadata": {}
  },
  {
   "cell_type": "code",
   "execution_count": 52,
   "source": [
    "\"\"\"\n",
    "Day-Night split\n",
    "\"\"\"\n",
    "sns.countplot(x = \"night\", data=vid_annot)"
   ],
   "outputs": [
    {
     "output_type": "execute_result",
     "data": {
      "text/plain": [
       "<AxesSubplot:xlabel='night', ylabel='count'>"
      ]
     },
     "metadata": {},
     "execution_count": 52
    },
    {
     "output_type": "display_data",
     "data": {
      "image/png": "[encoded data removed]",
      "text/plain": [
       "<Figure size 432x288 with 1 Axes>"
      ]
     },
     "metadata": {
      "needs_background": "light"
     }
    }
   ],
   "metadata": {}
  },
  {
   "cell_type": "code",
   "execution_count": 53,
   "source": [
    "\"\"\" \n",
    "Time \n",
    "\n",
    "\"\"\"\n",
    "sns.histplot(x = \"time\", data=vid_annot, bins = 10)"
   ],
   "outputs": [
    {
     "output_type": "execute_result",
     "data": {
      "text/plain": [
       "<AxesSubplot:xlabel='time', ylabel='Count'>"
      ]
     },
     "metadata": {},
     "execution_count": 53
    },
    {
     "output_type": "display_data",
     "data": {
      "image/png": "[encoded data removed]",
      "text/plain": [
       "<Figure size 432x288 with 1 Axes>"
      ]
     },
     "metadata": {
      "needs_background": "light"
     }
    }
   ],
   "metadata": {}
  },
  {
   "cell_type": "code",
   "execution_count": 54,
   "source": [
    "\"\"\" \n",
    "City Distribution\n",
    "\n",
    "\"\"\"\n",
    "plt.subplots(figsize = (6, 6))\n",
    "sns.countplot(y=\"city\", data=vid_annot)"
   ],
   "outputs": [
    {
     "output_type": "execute_result",
     "data": {
      "text/plain": [
       "<AxesSubplot:xlabel='count', ylabel='city'>"
      ]
     },
     "metadata": {},
     "execution_count": 54
    },
    {
     "output_type": "display_data",
     "data": {
      "image/png": "[encoded data removed]",
      "text/plain": [
       "<Figure size 432x432 with 1 Axes>"
      ]
     },
     "metadata": {
      "needs_background": "light"
     }
    }
   ],
   "metadata": {}
  },
  {
   "cell_type": "code",
   "execution_count": 56,
   "source": [
    "\"\"\" \n",
    "Visibility\n",
    "\n",
    "\"\"\"\n",
    "\n",
    "sns.countplot(x=\"visibility\", data=vid_annot)\n",
    "plt.xlim(-1,2)"
   ],
   "outputs": [
    {
     "output_type": "execute_result",
     "data": {
      "text/plain": [
       "(-1.0, 2.0)"
      ]
     },
     "metadata": {},
     "execution_count": 56
    },
    {
     "output_type": "display_data",
     "data": {
      "image/png": "[encoded data removed]",
      "text/plain": [
       "<Figure size 432x288 with 1 Axes>"
      ]
     },
     "metadata": {
      "needs_background": "light"
     }
    }
   ],
   "metadata": {}
  },
  {
   "cell_type": "code",
   "execution_count": 57,
   "source": [
    "\"\"\" \n",
    "Do all files have both audio and video annotations?\n",
    "\"\"\"\n",
    "vid_files = set(vid_annot[\"filename\"])\n",
    "aud_files = set(aud_annot[\"filename\"])\n",
    "\n",
    "vid_only = [i for i in vid_files if i not in aud_files]\n",
    "vid_only\n",
    "\n",
    "\"\"\"Yes, all files have both annotations.\"\"\""
   ],
   "outputs": [
    {
     "output_type": "execute_result",
     "data": {
      "text/plain": [
       "'Yes, all files have both annotations.'"
      ]
     },
     "metadata": {},
     "execution_count": 57
    }
   ],
   "metadata": {}
  },
  {
   "cell_type": "markdown",
   "source": [
    "## More Questions\n",
    "\n",
    "1. How many vehicles per frame? (classwise)\n",
    "2. Average Speed of vehicles (classwise)\n",
    "3. How much overlap between audio and video annotations?\n",
    "   "
   ],
   "metadata": {}
  },
  {
   "cell_type": "markdown",
   "source": [
    "### 1. How many vehicles per frame? (classwise)"
   ],
   "metadata": {}
  },
  {
   "cell_type": "code",
   "execution_count": 58,
   "source": [
    "framewise_cts = {\"filename\":[],\"frame_id\":[], \"car\":[], \"motorbike\":[], \"truck\":[], \"bus\":[]}\n",
    "filenames = sorted(list(set(vid_annot[\"filename\"])))\n",
    "categories = [\"car\", \"truck\", \"motorbike\", \"bus\"]\n",
    "for fname in filenames:\n",
    "    sub_annot = vid_annot[vid_annot[\"filename\"] == fname]\n",
    "    for fr in range(max(sub_annot[\"frame_id\"]+1)):\n",
    "        counts = sub_annot[sub_annot[\"frame_id\"] == fr][\"label\"].value_counts()\n",
    "        for category in categories:\n",
    "            if category in counts:\n",
    "                framewise_cts[category].append(counts[category])\n",
    "            else:\n",
    "                framewise_cts[category].append(0)\n",
    "        framewise_cts[\"filename\"].append(fname)\n",
    "        framewise_cts[\"frame_id\"].append(fr)\n"
   ],
   "outputs": [],
   "metadata": {}
  },
  {
   "cell_type": "code",
   "execution_count": 59,
   "source": [
    "plt.figure(figsize = (8, 8))\n",
    "for i in range(4):\n",
    "    category = categories[i]\n",
    "    cts = np.array(framewise_cts[category])\n",
    "    cts = cts[(cts>0) & (cts<10)]                         # don't plot 0s and values greater than 10\n",
    "    plt.subplot(2, 2, i+1)\n",
    "    sns.histplot(cts, binwidth=0.99)\n",
    "    plt.title(category)\n",
    "    plt.xlabel(\"number of vehicles in a frame\")\n",
    "    plt.xlim(0, 9)\n",
    "plt.tight_layout()\n"
   ],
   "outputs": [
    {
     "output_type": "display_data",
     "data": {
      "image/png": "[encoded data removed]",
      "text/plain": [
       "<Figure size 576x576 with 4 Axes>"
      ]
     },
     "metadata": {
      "needs_background": "light"
     }
    }
   ],
   "metadata": {}
  },
  {
   "cell_type": "markdown",
   "source": [
    "### There are frames with upto 4 trucks. Let's take a look at those"
   ],
   "metadata": {}
  },
  {
   "cell_type": "code",
   "execution_count": 60,
   "source": [
    "# get the filename with maximum number for each category\n",
    "print(\"Files with maximum numbers of instances for the following categories:\")\n",
    "for category in categories:\n",
    "    max_idx = np.argmax(framewise_cts[category])\n",
    "    fname = framewise_cts[\"filename\"][max_idx]\n",
    "    print(f\"{category} - {fname}\")\n",
    "    \n"
   ],
   "outputs": [
    {
     "output_type": "stream",
     "name": "stdout",
     "text": [
      "Files with maximum numbers of instances for the following categories:\n",
      "car - street_traffic-barcelona-163-4994\n",
      "truck - street_traffic-barcelona-163-4975\n",
      "motorbike - street_traffic-barcelona-161-4915\n",
      "bus - street_traffic-helsinki-165-5050\n"
     ]
    }
   ],
   "metadata": {}
  },
  {
   "cell_type": "code",
   "execution_count": 61,
   "source": [
    "print(\"Files with minimum numbers of instances for the following categories:\")\n",
    "for category in categories:\n",
    "    max_idx = np.argmin(framewise_cts[category])\n",
    "    fname = framewise_cts[\"filename\"][max_idx]\n",
    "    print(f\"{category} - {fname}\")"
   ],
   "outputs": [
    {
     "output_type": "stream",
     "name": "stdout",
     "text": [
      "Files with minimum numbers of instances for the following categories:\n",
      "car - acevedo0103_00_0\n",
      "truck - acevedo0103_00_0\n",
      "motorbike - acevedo0103_00_0\n",
      "bus - acevedo0103_00_0\n"
     ]
    }
   ],
   "metadata": {}
  },
  {
   "cell_type": "code",
   "execution_count": 62,
   "source": [
    "vid_annot_sub = vid_annot[vid_annot.filename == \"rivera0923_00_6\"].set_index(\"frame_id\")\n",
    "vid_annot_sub"
   ],
   "outputs": [
    {
     "output_type": "execute_result",
     "data": {
      "text/html": [
       "<div>\n",
       "<style scoped>\n",
       "    .dataframe tbody tr th:only-of-type {\n",
       "        vertical-align: middle;\n",
       "    }\n",
       "\n",
       "    .dataframe tbody tr th {\n",
       "        vertical-align: top;\n",
       "    }\n",
       "\n",
       "    .dataframe thead th {\n",
       "        text-align: right;\n",
       "    }\n",
       "</style>\n",
       "<table border=\"1\" class=\"dataframe\">\n",
       "  <thead>\n",
       "    <tr style=\"text-align: right;\">\n",
       "      <th></th>\n",
       "      <th>track_id</th>\n",
       "      <th>x</th>\n",
       "      <th>y</th>\n",
       "      <th>w</th>\n",
       "      <th>h</th>\n",
       "      <th>class_id</th>\n",
       "      <th>visibility</th>\n",
       "      <th>label</th>\n",
       "      <th>filename</th>\n",
       "      <th>city</th>\n",
       "      <th>location_id</th>\n",
       "      <th>time</th>\n",
       "      <th>night</th>\n",
       "    </tr>\n",
       "    <tr>\n",
       "      <th>frame_id</th>\n",
       "      <th></th>\n",
       "      <th></th>\n",
       "      <th></th>\n",
       "      <th></th>\n",
       "      <th></th>\n",
       "      <th></th>\n",
       "      <th></th>\n",
       "      <th></th>\n",
       "      <th></th>\n",
       "      <th></th>\n",
       "      <th></th>\n",
       "      <th></th>\n",
       "      <th></th>\n",
       "    </tr>\n",
       "  </thead>\n",
       "  <tbody>\n",
       "    <tr>\n",
       "      <th>1</th>\n",
       "      <td>1</td>\n",
       "      <td>526.40</td>\n",
       "      <td>453.05</td>\n",
       "      <td>172.41</td>\n",
       "      <td>98.25</td>\n",
       "      <td>1</td>\n",
       "      <td>1.0</td>\n",
       "      <td>car</td>\n",
       "      <td>rivera0923_00_6</td>\n",
       "      <td>montevideo</td>\n",
       "      <td>rivera0923</td>\n",
       "      <td>0.0</td>\n",
       "      <td>0</td>\n",
       "    </tr>\n",
       "    <tr>\n",
       "      <th>1</th>\n",
       "      <td>2</td>\n",
       "      <td>947.42</td>\n",
       "      <td>400.28</td>\n",
       "      <td>38.87</td>\n",
       "      <td>65.35</td>\n",
       "      <td>4</td>\n",
       "      <td>1.0</td>\n",
       "      <td>motorbike</td>\n",
       "      <td>rivera0923_00_6</td>\n",
       "      <td>montevideo</td>\n",
       "      <td>rivera0923</td>\n",
       "      <td>0.0</td>\n",
       "      <td>0</td>\n",
       "    </tr>\n",
       "    <tr>\n",
       "      <th>2</th>\n",
       "      <td>3</td>\n",
       "      <td>1928.46</td>\n",
       "      <td>400.66</td>\n",
       "      <td>212.64</td>\n",
       "      <td>143.32</td>\n",
       "      <td>1</td>\n",
       "      <td>1.0</td>\n",
       "      <td>car</td>\n",
       "      <td>rivera0923_00_6</td>\n",
       "      <td>montevideo</td>\n",
       "      <td>rivera0923</td>\n",
       "      <td>0.5</td>\n",
       "      <td>0</td>\n",
       "    </tr>\n",
       "    <tr>\n",
       "      <th>2</th>\n",
       "      <td>1</td>\n",
       "      <td>375.66</td>\n",
       "      <td>444.97</td>\n",
       "      <td>172.41</td>\n",
       "      <td>98.25</td>\n",
       "      <td>1</td>\n",
       "      <td>0.0</td>\n",
       "      <td>car</td>\n",
       "      <td>rivera0923_00_6</td>\n",
       "      <td>montevideo</td>\n",
       "      <td>rivera0923</td>\n",
       "      <td>0.5</td>\n",
       "      <td>0</td>\n",
       "    </tr>\n",
       "    <tr>\n",
       "      <th>2</th>\n",
       "      <td>2</td>\n",
       "      <td>947.42</td>\n",
       "      <td>400.28</td>\n",
       "      <td>38.87</td>\n",
       "      <td>65.35</td>\n",
       "      <td>4</td>\n",
       "      <td>1.0</td>\n",
       "      <td>motorbike</td>\n",
       "      <td>rivera0923_00_6</td>\n",
       "      <td>montevideo</td>\n",
       "      <td>rivera0923</td>\n",
       "      <td>0.5</td>\n",
       "      <td>0</td>\n",
       "    </tr>\n",
       "    <tr>\n",
       "      <th>...</th>\n",
       "      <td>...</td>\n",
       "      <td>...</td>\n",
       "      <td>...</td>\n",
       "      <td>...</td>\n",
       "      <td>...</td>\n",
       "      <td>...</td>\n",
       "      <td>...</td>\n",
       "      <td>...</td>\n",
       "      <td>...</td>\n",
       "      <td>...</td>\n",
       "      <td>...</td>\n",
       "      <td>...</td>\n",
       "      <td>...</td>\n",
       "    </tr>\n",
       "    <tr>\n",
       "      <th>19</th>\n",
       "      <td>2</td>\n",
       "      <td>947.42</td>\n",
       "      <td>400.28</td>\n",
       "      <td>38.87</td>\n",
       "      <td>65.35</td>\n",
       "      <td>4</td>\n",
       "      <td>1.0</td>\n",
       "      <td>motorbike</td>\n",
       "      <td>rivera0923_00_6</td>\n",
       "      <td>montevideo</td>\n",
       "      <td>rivera0923</td>\n",
       "      <td>9.0</td>\n",
       "      <td>0</td>\n",
       "    </tr>\n",
       "    <tr>\n",
       "      <th>20</th>\n",
       "      <td>5</td>\n",
       "      <td>3.20</td>\n",
       "      <td>365.20</td>\n",
       "      <td>121.60</td>\n",
       "      <td>99.10</td>\n",
       "      <td>3</td>\n",
       "      <td>0.0</td>\n",
       "      <td>bus</td>\n",
       "      <td>rivera0923_00_6</td>\n",
       "      <td>montevideo</td>\n",
       "      <td>rivera0923</td>\n",
       "      <td>9.5</td>\n",
       "      <td>0</td>\n",
       "    </tr>\n",
       "    <tr>\n",
       "      <th>20</th>\n",
       "      <td>9</td>\n",
       "      <td>212.47</td>\n",
       "      <td>464.03</td>\n",
       "      <td>193.33</td>\n",
       "      <td>118.37</td>\n",
       "      <td>1</td>\n",
       "      <td>0.0</td>\n",
       "      <td>car</td>\n",
       "      <td>rivera0923_00_6</td>\n",
       "      <td>montevideo</td>\n",
       "      <td>rivera0923</td>\n",
       "      <td>9.5</td>\n",
       "      <td>0</td>\n",
       "    </tr>\n",
       "    <tr>\n",
       "      <th>20</th>\n",
       "      <td>10</td>\n",
       "      <td>1031.62</td>\n",
       "      <td>413.52</td>\n",
       "      <td>170.03</td>\n",
       "      <td>108.05</td>\n",
       "      <td>1</td>\n",
       "      <td>1.0</td>\n",
       "      <td>car</td>\n",
       "      <td>rivera0923_00_6</td>\n",
       "      <td>montevideo</td>\n",
       "      <td>rivera0923</td>\n",
       "      <td>9.5</td>\n",
       "      <td>0</td>\n",
       "    </tr>\n",
       "    <tr>\n",
       "      <th>20</th>\n",
       "      <td>2</td>\n",
       "      <td>947.42</td>\n",
       "      <td>400.28</td>\n",
       "      <td>38.87</td>\n",
       "      <td>65.35</td>\n",
       "      <td>4</td>\n",
       "      <td>1.0</td>\n",
       "      <td>motorbike</td>\n",
       "      <td>rivera0923_00_6</td>\n",
       "      <td>montevideo</td>\n",
       "      <td>rivera0923</td>\n",
       "      <td>9.5</td>\n",
       "      <td>0</td>\n",
       "    </tr>\n",
       "  </tbody>\n",
       "</table>\n",
       "<p>66 rows × 13 columns</p>\n",
       "</div>"
      ],
      "text/plain": [
       "          track_id        x       y       w       h  class_id  visibility  \\\n",
       "frame_id                                                                    \n",
       "1                1   526.40  453.05  172.41   98.25         1         1.0   \n",
       "1                2   947.42  400.28   38.87   65.35         4         1.0   \n",
       "2                3  1928.46  400.66  212.64  143.32         1         1.0   \n",
       "2                1   375.66  444.97  172.41   98.25         1         0.0   \n",
       "2                2   947.42  400.28   38.87   65.35         4         1.0   \n",
       "...            ...      ...     ...     ...     ...       ...         ...   \n",
       "19               2   947.42  400.28   38.87   65.35         4         1.0   \n",
       "20               5     3.20  365.20  121.60   99.10         3         0.0   \n",
       "20               9   212.47  464.03  193.33  118.37         1         0.0   \n",
       "20              10  1031.62  413.52  170.03  108.05         1         1.0   \n",
       "20               2   947.42  400.28   38.87   65.35         4         1.0   \n",
       "\n",
       "              label         filename        city location_id  time  night  \n",
       "frame_id                                                                   \n",
       "1               car  rivera0923_00_6  montevideo  rivera0923   0.0      0  \n",
       "1         motorbike  rivera0923_00_6  montevideo  rivera0923   0.0      0  \n",
       "2               car  rivera0923_00_6  montevideo  rivera0923   0.5      0  \n",
       "2               car  rivera0923_00_6  montevideo  rivera0923   0.5      0  \n",
       "2         motorbike  rivera0923_00_6  montevideo  rivera0923   0.5      0  \n",
       "...             ...              ...         ...         ...   ...    ...  \n",
       "19        motorbike  rivera0923_00_6  montevideo  rivera0923   9.0      0  \n",
       "20              bus  rivera0923_00_6  montevideo  rivera0923   9.5      0  \n",
       "20              car  rivera0923_00_6  montevideo  rivera0923   9.5      0  \n",
       "20              car  rivera0923_00_6  montevideo  rivera0923   9.5      0  \n",
       "20        motorbike  rivera0923_00_6  montevideo  rivera0923   9.5      0  \n",
       "\n",
       "[66 rows x 13 columns]"
      ]
     },
     "metadata": {},
     "execution_count": 62
    }
   ],
   "metadata": {}
  }
 ],
 "metadata": {
  "orig_nbformat": 4,
  "language_info": {
   "name": "python",
   "version": "3.8.10",
   "mimetype": "text/x-python",
   "codemirror_mode": {
    "name": "ipython",
    "version": 3
   },
   "pygments_lexer": "ipython3",
   "nbconvert_exporter": "python",
   "file_extension": ".py"
  },
  "kernelspec": {
   "name": "python3",
   "display_name": "Python 3.8.10 64-bit ('.env': virtualenv)"
  },
  "interpreter": {
   "hash": "8925996864cb83d2e4031f58f85f04b1cdf1f5bde519ed20ccd143ffa10e1710"
  }
 },
 "nbformat": 4,
 "nbformat_minor": 2
}